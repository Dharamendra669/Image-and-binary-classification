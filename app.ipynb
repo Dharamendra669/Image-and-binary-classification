{
 "cells": [
  {
   "cell_type": "code",
   "execution_count": null,
   "metadata": {},
   "outputs": [
    {
     "name": "stdout",
     "output_type": "stream",
     "text": [
      " * Serving Flask app \"app\" (lazy loading)\n",
      " * Environment: production\n",
      "   WARNING: This is a development server. Do not use it in a production deployment.\n",
      "   Use a production WSGI server instead.\n",
      " * Debug mode: off\n"
     ]
    },
    {
     "name": "stderr",
     "output_type": "stream",
     "text": [
      " * Running on http://127.0.0.1:5000/ (Press CTRL+C to quit)\n",
      "127.0.0.1 - - [25/Oct/2021 09:58:04] \"GET / HTTP/1.1\" 302 -\n",
      "127.0.0.1 - - [25/Oct/2021 09:58:04] \"GET /BuildModel HTTP/1.1\" 200 -\n",
      "127.0.0.1 - - [25/Oct/2021 09:58:04] \"GET /static/style.css HTTP/1.1\" 200 -\n",
      "127.0.0.1 - - [25/Oct/2021 09:58:04] \"GET /static/images/blueeto.png HTTP/1.1\" 200 -\n",
      "127.0.0.1 - - [25/Oct/2021 09:58:04] \"GET /static/images/highmark.png HTTP/1.1\" 200 -\n",
      "127.0.0.1 - - [25/Oct/2021 09:58:04] \"GET /static/images/hmhs.png HTTP/1.1\" 200 -\n",
      "127.0.0.1 - - [25/Oct/2021 09:58:04] \"GET /static/images/thryve.png HTTP/1.1\" 200 -\n",
      "127.0.0.1 - - [25/Oct/2021 09:58:04] \"GET /static/images/ai2.jpg HTTP/1.1\" 200 -\n",
      "127.0.0.1 - - [25/Oct/2021 09:58:05] \"GET /favicon.ico HTTP/1.1\" 404 -\n"
     ]
    },
    {
     "name": "stdout",
     "output_type": "stream",
     "text": [
      "Checking whether there is an H2O instance running at http://localhost:54321 . connected.\n"
     ]
    },
    {
     "data": {
      "text/html": [
       "<div style=\"overflow:auto\"><table style=\"width:50%\"><tr><td>H2O_cluster_uptime:</td>\n",
       "<td>5 mins 17 secs</td></tr>\n",
       "<tr><td>H2O_cluster_timezone:</td>\n",
       "<td>Asia/Kolkata</td></tr>\n",
       "<tr><td>H2O_data_parsing_timezone:</td>\n",
       "<td>UTC</td></tr>\n",
       "<tr><td>H2O_cluster_version:</td>\n",
       "<td>3.32.1.7</td></tr>\n",
       "<tr><td>H2O_cluster_version_age:</td>\n",
       "<td>1 month and 22 days </td></tr>\n",
       "<tr><td>H2O_cluster_name:</td>\n",
       "<td>H2O_from_python_Asus_q6jh9t</td></tr>\n",
       "<tr><td>H2O_cluster_total_nodes:</td>\n",
       "<td>1</td></tr>\n",
       "<tr><td>H2O_cluster_free_memory:</td>\n",
       "<td>3.506 Gb</td></tr>\n",
       "<tr><td>H2O_cluster_total_cores:</td>\n",
       "<td>8</td></tr>\n",
       "<tr><td>H2O_cluster_allowed_cores:</td>\n",
       "<td>8</td></tr>\n",
       "<tr><td>H2O_cluster_status:</td>\n",
       "<td>locked, healthy</td></tr>\n",
       "<tr><td>H2O_connection_url:</td>\n",
       "<td>http://localhost:54321</td></tr>\n",
       "<tr><td>H2O_connection_proxy:</td>\n",
       "<td>{\"http\": null, \"https\": null}</td></tr>\n",
       "<tr><td>H2O_internal_security:</td>\n",
       "<td>False</td></tr>\n",
       "<tr><td>H2O_API_Extensions:</td>\n",
       "<td>Amazon S3, Algos, AutoML, Core V3, TargetEncoder, Core V4</td></tr>\n",
       "<tr><td>Python_version:</td>\n",
       "<td>3.8.8 final</td></tr></table></div>"
      ],
      "text/plain": [
       "--------------------------  ---------------------------------------------------------\n",
       "H2O_cluster_uptime:         5 mins 17 secs\n",
       "H2O_cluster_timezone:       Asia/Kolkata\n",
       "H2O_data_parsing_timezone:  UTC\n",
       "H2O_cluster_version:        3.32.1.7\n",
       "H2O_cluster_version_age:    1 month and 22 days\n",
       "H2O_cluster_name:           H2O_from_python_Asus_q6jh9t\n",
       "H2O_cluster_total_nodes:    1\n",
       "H2O_cluster_free_memory:    3.506 Gb\n",
       "H2O_cluster_total_cores:    8\n",
       "H2O_cluster_allowed_cores:  8\n",
       "H2O_cluster_status:         locked, healthy\n",
       "H2O_connection_url:         http://localhost:54321\n",
       "H2O_connection_proxy:       {\"http\": null, \"https\": null}\n",
       "H2O_internal_security:      False\n",
       "H2O_API_Extensions:         Amazon S3, Algos, AutoML, Core V3, TargetEncoder, Core V4\n",
       "Python_version:             3.8.8 final\n",
       "--------------------------  ---------------------------------------------------------"
      ]
     },
     "metadata": {},
     "output_type": "display_data"
    },
    {
     "name": "stderr",
     "output_type": "stream",
     "text": [
      "100%|███████████████████████████████████████████████████████████████████████████████| 111/111 [00:00<00:00, 199.65it/s]\n"
     ]
    },
    {
     "name": "stdout",
     "output_type": "stream",
     "text": [
      "Parse progress: |█████████████████████████████████████████████████████████| 100%\n",
      "AutoML progress: |█\n",
      "09:59:16.315: AutoML: XGBoost is not available; skipping it.\n",
      "\n",
      "███████████████████████████████████████████████████████| 100%\n",
      "Model Created.....\n",
      "Prediction using h2o saved model\n"
     ]
    },
    {
     "name": "stderr",
     "output_type": "stream",
     "text": [
      "100%|█████████████████████████████████████████████████████████████████████████████████| 29/29 [00:00<00:00, 190.75it/s]\n"
     ]
    },
    {
     "name": "stdout",
     "output_type": "stream",
     "text": [
      "Parse progress: |█████████████████████████████████████████████████████████| 100%\n",
      "Predictions started....\n",
      "gbm prediction progress: |████████████████████████████████████████████████| 100%\n",
      "Prediction result saved to:/Django/result/H2O_predictions_result.csv\n"
     ]
    },
    {
     "name": "stderr",
     "output_type": "stream",
     "text": [
      "127.0.0.1 - - [25/Oct/2021 10:01:48] \"POST /BuildModel HTTP/1.1\" 302 -\n",
      "127.0.0.1 - - [25/Oct/2021 10:01:48] \"GET /modelsummary/H2O_predictions_result.csv HTTP/1.1\" 200 -\n",
      "127.0.0.1 - - [25/Oct/2021 10:01:48] \"GET /static/download_style.css HTTP/1.1\" 200 -\n",
      "127.0.0.1 - - [25/Oct/2021 10:01:59] \"GET /uploads/train/Normal-4765.png HTTP/1.1\" 404 -\n",
      "127.0.0.1 - - [25/Oct/2021 10:02:13] \"GET /uploads/train/Normal-4765.png HTTP/1.1\" 404 -\n",
      "127.0.0.1 - - [25/Oct/2021 10:02:24] \"GET /uploads/train/Normal-4765.png HTTP/1.1\" 404 -\n",
      "127.0.0.1 - - [25/Oct/2021 10:02:28] \"GET /uploads/train/Normal-4765.png HTTP/1.1\" 404 -\n"
     ]
    }
   ],
   "source": [
    "%run app.py"
   ]
  },
  {
   "cell_type": "code",
   "execution_count": null,
   "metadata": {},
   "outputs": [],
   "source": [
    "import h2o\n",
    "import os\n",
    "import pandas as pd\n",
    "import numpy as np\n",
    "import matplotlib.pyplot as plt\n",
    "from tqdm import tqdm\n",
    "import matplotlib.image as mpimg\n",
    "import cv2\n",
    "import os\n",
    "from werkzeug.utils import secure_filename\n",
    "from flask import Flask,flash,request,redirect,send_file,render_template,session\n",
    "import json\n",
    "from json import JSONEncoder\n",
    "#from h2o.automl import H2OAutoML\n",
    "import h2o_Automl_Image\n",
    "#h2o.init()\n",
    "UPLOAD_FOLDER='uploads'\n",
    "UPLOAD_FOLDER_TRAIN = 'uploads/train'\n",
    "UPLOAD_FOLDER_TEST = 'uploads/test'\n",
    "RESULT_FOLDER = 'Django/result/'\n",
    "#app = Flask(__name__)\n",
    "app = Flask(__name__, template_folder='templates')\n",
    "app.config['UPLOAD_FOLDER'] = UPLOAD_FOLDER_TRAIN\n",
    "app.config['UPLOAD_FOLDER_TRAIN'] = UPLOAD_FOLDER_TRAIN\n",
    "app.config['UPLOAD_FOLDER_TEST'] = UPLOAD_FOLDER_TEST\n",
    "app.secret_key = 'a random string'\n",
    "#dropdown page\n",
    "# @app.route('/', methods=['GET','POST'])\n",
    "# def dropdown():\n",
    "#     dies = ['diebteics', 'covid']\n",
    "#     return render_template('test.html', colours=dies)\n",
    "\n",
    "\n",
    "# Upload API\n",
    "# def drop_down_select():\n",
    "#     if request.method == 'POST':\n",
    "#         tvalue = request.form['colour']\n",
    "#         if tvalue=='covid':\n",
    "#             return redirect('/BuildModel')\n",
    "#         else:\n",
    "#             return redirect('/BuildModel')\n",
    "@app.route('/', methods=['GET','POST'])\n",
    "def reroot():\n",
    "    return redirect('/BuildModel')\n",
    "@app.route('/BuildModel', methods=['GET', 'POST'])\n",
    "def upload_file_covid():\n",
    "    if request.method == 'POST':\n",
    "\n",
    "        # check if the post request has the file part\n",
    "        ifiles=request.files.getlist(\"ifile[]\")\n",
    "        for ifile in ifiles:\n",
    "            filename = secure_filename(ifile.filename)\n",
    "            ifile.save(os.path.join(app.config['UPLOAD_FOLDER_TRAIN'], ifile.filename))\n",
    "        nfiles=request.files.getlist(\"nfile[]\")        \n",
    "        for nfile in nfiles:\n",
    "            filename = secure_filename(nfile.filename)\n",
    "\n",
    "            nfile.save(os.path.join(app.config['UPLOAD_FOLDER_TEST'], nfile.filename))\n",
    "\n",
    "\n",
    "\n",
    "\n",
    "\n",
    "\n",
    "\n",
    "            #Process the model H2O\n",
    "#             ifile_path = UPLOAD_FOLDER + filename\n",
    "#             nfile_path = UPLOAD_FOLDER + nfilename\n",
    "#             data = h2o.import_file(ifile_path)\n",
    "#             ndata = h2o.import_file(nfile_path)\n",
    "\n",
    "#             rows1 = data.shape[0]\n",
    "#             column1 = (data.shape[1])-1\n",
    "#             nrow = ndata.shape[0]\n",
    "\n",
    "#             df_pos = data[data['Outcome'] == 1]\n",
    "#             df_neg = data[data['Outcome'] == 0]\n",
    "#             pos = df_pos.shape[0]\n",
    "#             neg = df_neg.shape[0]\n",
    "\n",
    "            modelbuild = h2o_Automl_Image.h2otraining(UPLOAD_FOLDER_TRAIN)\n",
    "            nrows_train=len(h2o_Automl_Image.h2otraining.train_f)\n",
    "            #if modelbuild == 'Y':\n",
    "            auc = h2o_Automl_Image.h20predict(UPLOAD_FOLDER_TEST)\n",
    "            nrows_test=len(h2o_Automl_Image.h20predict.df_1)\n",
    "            \n",
    "            data=h2o_Automl_Image.h20predict.df_1\n",
    "            heading=(data.columns).tolist()\n",
    "            v=(data.values).tolist()\n",
    "            json_str_heading = json.dumps(heading)\n",
    "            json_str_v = json.dumps(v)\n",
    "#             q = {'data':data}\n",
    "#             Table = []\n",
    "#             for key, value in q.items():    # or .items() in Python 3\n",
    "#                 temp = []\n",
    "#                 temp.extend([key,value])  #Note that this will change depending on the structure of your dictionary\n",
    "#                 Table.append(temp)\n",
    "            \n",
    "            #else:\n",
    "                #return 'Model not build!! please contact Application support'\n",
    "            #here code for printing actual value and total predicted value from the test data set\n",
    "            t=h2o_Automl_Image.h20predict.df_1['Actual'].cat.categories\n",
    "            rows = len(h2o_Automl_Image.h20predict.n);  \n",
    "            cols = len(h2o_Automl_Image.h20predict.n[0]);\n",
    "            q={}\n",
    "            for i in range(0, rows):  \n",
    "                sumCol = 0;  \n",
    "                for j in range(0, cols):  \n",
    "                    sumCol = sumCol + h2o_Automl_Image.h20predict.n[j][i];  \n",
    "                q[i]=\"Total machine predicted value of \" + t[i]+\" is \" + str(sumCol)+ \" and truely machine predicted value for \"+t[i]+\" is \"+str(h2o_Automl_Image.h20predict.n[i][i]) \n",
    "\n",
    "            #result = 'H2O_predictions_result.csv'\n",
    "            #result_dt = h2o.import_file(RESULT_FOLDER + 'H2O_predictions_result.csv')\n",
    "            #df_npos = result_dt[result_dt['MachinePrediction'] == 1]\n",
    "            #df_nneg = result_dt[result_dt['MachinePrediction'] == 0]\n",
    "            #npos = df_npos.shape[0]\n",
    "            #nneg = df_nneg.shape[0]\n",
    "            result = {'value':'H2O_predictions_result.csv',\n",
    "                     'rows_train':nrows_train,\n",
    "                      'rows_test':nrows_test,\n",
    "                      'cm_value':q,\n",
    "                      'auc':auc,\n",
    "                      'headings':heading,\n",
    "                      'v':v\n",
    "                      \n",
    "                     }\n",
    "#             result = {'value':'H2O_predictions_result.csv',\n",
    "#                       'rows':rows1,\n",
    "#                       'column':column1,\n",
    "#                       'pos':pos,\n",
    "#                       'neg':neg,\n",
    "#                       'nrow':nrow,\n",
    "#                       'npos':npos,\n",
    "#                       'nneg':nneg,\n",
    "#                       'auc':auc}\n",
    "\n",
    "            session['result'] = result\n",
    "            #send file name as parameter to downlad\n",
    "            return redirect('/modelsummary/'+ result.get('value'))\n",
    "            #return aml.explain(ndata) \n",
    "    return render_template('upload_file_covid.html')\n",
    "#output\n",
    "@app.route(\"/modelsummary/<result>\", methods = ['GET'])\n",
    "def download_file_covid(result):\n",
    "#     try:\n",
    "    dicta = session['result'] \n",
    "        \n",
    "#     except IOError:\n",
    "#         print( 'Image not found')\n",
    "    return render_template('download_covid.html',dicta = dicta)\n",
    "\n",
    "\n",
    "# @app.route(\"/modelsummary/<result>\", methods=['GET'])\n",
    "# def data_shown(result):\n",
    "#     h=session[result['headings']]\n",
    "#     d=sesssion[result['v']]\n",
    "#     return render_templates('download_covid.html',headings=h,datas=d)\n",
    "# #image printing in \n",
    "# @app.route(\"/image/<result>\",methods = ['GET'])\n",
    "# def return_image ():\n",
    "    \n",
    "#     text = request.args.get('text')\n",
    "# #     from PIL import Image \n",
    "#     input_img=str(text)\n",
    "\n",
    "#     im3 = os.path.join(app.config['UPLOAD_FOLDER_TEST'], 'input_img') \n",
    "#     print(im3)\n",
    "#     print(im3)\n",
    "#     #im3 = cv2.cvtColor(im3, cv2.COLOR_BGR2RGB)\n",
    "# #     plt.imshow(im3)\n",
    "# #     plt.show()\n",
    "@app.route('/return-files/<result>')\n",
    "def return_files_tut_covid(result):\n",
    "\n",
    "    file_path = RESULT_FOLDER + result\n",
    "    return send_file(file_path, as_attachment=True, attachment_filename='')\n",
    "    return render_templates('download_covid.html',user_image=im3 )\n",
    "if __name__ == \"__main__\":\n",
    "    app.run(host='127.0.0.1',port=5000, debug=False)"
   ]
  },
  {
   "cell_type": "code",
   "execution_count": null,
   "metadata": {},
   "outputs": [],
   "source": [
    "h2o_Automl_Image.h20predict.df_1"
   ]
  },
  {
   "cell_type": "code",
   "execution_count": null,
   "metadata": {},
   "outputs": [],
   "source": [
    "download_file_covid.im3"
   ]
  },
  {
   "cell_type": "code",
   "execution_count": null,
   "metadata": {},
   "outputs": [],
   "source": [
    "data=h2o_Automl_Image.h20predict.df_1\n",
    "heading=(data.columns).tolist()\n",
    "v=(data.values).tolist()\n",
    "json_str_heading = json.dumps(heading)\n",
    "json_str_v = json.dumps(v)"
   ]
  },
  {
   "cell_type": "code",
   "execution_count": null,
   "metadata": {},
   "outputs": [],
   "source": [
    "for i in v:\n",
    "    print(i)"
   ]
  },
  {
   "cell_type": "code",
   "execution_count": null,
   "metadata": {},
   "outputs": [],
   "source": [
    "data=h2o_Automl_Image.h20predict.df_1\n",
    "for i in data.iterrows():\n",
    "    print(i)"
   ]
  },
  {
   "cell_type": "code",
   "execution_count": null,
   "metadata": {},
   "outputs": [],
   "source": [
    "heading=(data.columns).tolist()\n",
    "v=(data.values).tolist()"
   ]
  },
  {
   "cell_type": "code",
   "execution_count": null,
   "metadata": {},
   "outputs": [],
   "source": [
    "dicta"
   ]
  },
  {
   "cell_type": "code",
   "execution_count": null,
   "metadata": {},
   "outputs": [],
   "source": [
    "n={'data':data}"
   ]
  },
  {
   "cell_type": "code",
   "execution_count": null,
   "metadata": {},
   "outputs": [],
   "source": [
    "n['data']"
   ]
  },
  {
   "cell_type": "code",
   "execution_count": null,
   "metadata": {},
   "outputs": [],
   "source": [
    "data"
   ]
  },
  {
   "cell_type": "code",
   "execution_count": null,
   "metadata": {},
   "outputs": [],
   "source": [
    "upload_file_covid.data"
   ]
  },
  {
   "cell_type": "code",
   "execution_count": null,
   "metadata": {},
   "outputs": [],
   "source": [
    "from flask import Flask, request, render_template, session, redirect\n",
    "import numpy as np\n",
    "import pandas as pd\n",
    "\n",
    "\n",
    "app = Flask(__name__)\n",
    "\n",
    "df = pd.DataFrame({'A': [0, 1, 2, 3, 4],\n",
    "                   'B': [5, 6, 7, 8, 9],\n",
    "                   'C': ['a', 'b', 'c--', 'd', 'e']})\n",
    "\n",
    "\n",
    "@app.route('/', methods=(\"POST\", \"GET\"))\n",
    "def html_table():\n",
    "\n",
    "    return render_template('simple.html',  tables=[df.to_html(classes='data')], titles=df.columns.values)\n",
    "\n",
    "\n",
    "\n",
    "if __name__ == '__main__':\n",
    "    app.run(host='127.0.0.1',port=5000)"
   ]
  },
  {
   "cell_type": "markdown",
   "metadata": {},
   "source": [
    "def dropdown():\n",
    "    df_analytics = ['dibetics','covid']\n",
    "    return render_template('test.html', colours=colours)\n",
    "def upload_file():\n",
    "    if request.method == 'POST':\n",
    "        tvalue = request.form['colour']\n",
    "        if tvalue=='covid':\n",
    "            files=request.files.getlist(\"ifile[]\")\n",
    "if __name__ == \"__main__\":\n",
    "    app.run(host='127.0.0.1',port=5000)"
   ]
  },
  {
   "cell_type": "markdown",
   "metadata": {},
   "source": [
    "[Errno 2] No such file or directory: 'uploads\\\\All_in_one_train/COVID-1.png'"
   ]
  }
 ],
 "metadata": {
  "kernelspec": {
   "display_name": "Python 3",
   "language": "python",
   "name": "python3"
  },
  "language_info": {
   "codemirror_mode": {
    "name": "ipython",
    "version": 3
   },
   "file_extension": ".py",
   "mimetype": "text/x-python",
   "name": "python",
   "nbconvert_exporter": "python",
   "pygments_lexer": "ipython3",
   "version": "3.8.8"
  }
 },
 "nbformat": 4,
 "nbformat_minor": 4
}
